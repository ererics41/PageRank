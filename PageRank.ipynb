{
 "cells": [
  {
   "cell_type": "code",
   "execution_count": 1,
   "metadata": {},
   "outputs": [],
   "source": [
    "import os\n",
    "import math\n",
    "import time\n",
    "import struct\n",
    "import json\n",
    "import pandas as pd\n",
    "import networkx as nx\n",
    "import numpy as np\n",
    "import numpy.linalg as npla\n",
    "import scipy\n",
    "import scipy.sparse.linalg as spla\n",
    "from scipy import sparse\n",
    "from scipy import linalg\n",
    "import matplotlib.pyplot as plt\n",
    "from matplotlib import cm\n",
    "from mpl_toolkits.mplot3d import axes3d\n",
    "%matplotlib tk\n",
    "\n"
   ]
  },
  {
   "cell_type": "code",
   "execution_count": 2,
   "metadata": {},
   "outputs": [],
   "source": [
    "def pagerank(E, return_vector = False, max_iters = 1000, tolerance = 1e-6):\n",
    "    \"\"\"compute page rank from sparse csr adjacency matrix\n",
    "\n",
    "    Inputs:\n",
    "      E: adjacency matrix with links going from cols to rows.\n",
    "         E is a matrix of 0s and 1s, where E[i,j] = 1 means \n",
    "         that web page (vertex) j has a link to web page i.\n",
    "      return_vector = False: If True, return the eigenvector as well as the ranking.\n",
    "      max_iters = 1000: Maximum number of power iterations to do.\n",
    "      tolerance = 1e-6: Stop when the eigenvector norm changes by less than this.\n",
    "      \n",
    "    Outputs:\n",
    "      ranking: Permutation giving the ranking, most important first\n",
    "      vector (only if return_vector is True): Dominant eigenvector of PageRank matrix\n",
    "\n",
    "    This computes page rank by using the power iteration method.\n",
    "    \"\"\"\n",
    "    \n",
    "    assert sparse.isspmatrix_csr(E), 'Must be a sparse matrix'\n",
    "                \n",
    "    nnz = sparse.csr_matrix.count_nonzero(E) \n",
    "    outdegree = np.array(E.sum(0))[0]\n",
    "    nrows, n = E.shape\n",
    "    assert nrows == n, 'E must be square'\n",
    "    assert np.max(E) == 1 and np.sum(E) == nnz, 'E must contain only zeros and ones'\n",
    "    np.seterr(divide='ignore', invalid='ignore')\n",
    "\n",
    "    m = 0.15\n",
    "    m_not = 1-m\n",
    "    e = np.ones(n)\n",
    "    v = e / npla.norm(e)\n",
    "    \n",
    "    e = np.zeros(n)\n",
    "    for c in range(n):\n",
    "        if outdegree[c] == 0:\n",
    "            e[c] = 1\n",
    "\n",
    "    for iteration in range(max_iters):\n",
    "        oldv = v\n",
    "        \n",
    "        # this line may cause a divide by zero warning since outdegree may have 0 elements which sets these values to inf\n",
    "        #, however the function multiply treats inf values as 0 so this issue is accounted for\n",
    "        t = v/outdegree\n",
    "        v = E@t\n",
    "        s = m/n*np.sum(oldv)\n",
    "        val = e@oldv\n",
    "        v = v - np.multiply(e,oldv)/(n-1)\n",
    "        \n",
    "        s = s + m_not*val/(n-1)\n",
    "        v = m_not*v+s\n",
    "        \n",
    "        eigval = npla.norm(v)\n",
    "        v = v / eigval\n",
    "        \n",
    "        if npla.norm(v - oldv) < tolerance:\n",
    "            break\n",
    "    \n",
    "    if npla.norm(v - oldv) < tolerance:\n",
    "        print('Dominant eigenvalue is %f after %d iterations.\\n' % (eigval, iteration+1))\n",
    "    else:\n",
    "        print('Did not converge to tolerance %e after %d iterations.\\n' % (tolerance, max_iters))\n",
    "\n",
    "    # Check that the eigenvector elements are all the same sign, and make them positive\n",
    "    assert np.all(v > 0) or np.all(v < 0), 'Error: eigenvector is not all > 0 or < 0'\n",
    "    vector = np.abs(v)\n",
    "        \n",
    "    #  Sort the eigenvector and reverse the permutation to get the rankings.\n",
    "    ranking = np.argsort(vector)[::-1]\n",
    "\n",
    "    if return_vector:\n",
    "        return ranking, vector\n",
    "    else:\n",
    "        return ranking"
   ]
  },
  {
   "cell_type": "code",
   "execution_count": 3,
   "metadata": {},
   "outputs": [
    {
     "name": "stdout",
     "output_type": "stream",
     "text": [
      "Dominant eigenvalue is 1.000000 after 19 iterations.\n",
      "\n",
      "CPU times: user 2.63 ms, sys: 713 µs, total: 3.34 ms\n",
      "Wall time: 2.72 ms\n",
      "r = [0 2 3 1]\n",
      "v = [-0.15708945 -0.57140999 -0.26378045 -0.41759526]\n"
     ]
    }
   ],
   "source": [
    "E = np.load('PageRankEG1.npy')\n",
    "%time r, v = pagerank(sparse.csr_matrix(E), return_vector = True)\n",
    "print('r =', r)\n",
    "print('v =', np.log10(v))"
   ]
  },
  {
   "cell_type": "code",
   "execution_count": 4,
   "metadata": {},
   "outputs": [
    {
     "name": "stdout",
     "output_type": "stream",
     "text": [
      "[-0.52183986 -1.89818289 -0.87625968 -1.38722144]\n"
     ]
    },
    {
     "data": {
      "image/png": "[encoded data removed]",
      "text/plain": [
       "<Figure size 432x288 with 1 Axes>"
      ]
     },
     "metadata": {
      "needs_background": "light"
     },
     "output_type": "display_data"
    }
   ],
   "source": [
    "# making histogram for PageRankEG1\n",
    "v_log = np.log2(v)\n",
    "print(v_log)\n",
    "num_bins = len(v_log)\n",
    "n, bins, patches = plt.hist(v_log)\n",
    "plt.show()"
   ]
  },
  {
   "cell_type": "code",
   "execution_count": 5,
   "metadata": {},
   "outputs": [
    {
     "name": "stdout",
     "output_type": "stream",
     "text": [
      "Dominant eigenvalue is 1.000000 after 2 iterations.\n",
      "\n",
      "CPU times: user 1.34 ms, sys: 78 µs, total: 1.42 ms\n",
      "Wall time: 1.38 ms\n",
      "r = [3 2 1 0 4]\n",
      "v = [-0.39208568 -0.39208568 -0.23827082 -0.23827082 -1.21599442]\n"
     ]
    }
   ],
   "source": [
    "E = np.load('PageRankEG2.npy')\n",
    "%time r, v = pagerank(sparse.csr_matrix(E), return_vector = True)\n",
    "print('r =', r)\n",
    "print('v =', np.log10(v))"
   ]
  },
  {
   "cell_type": "code",
   "execution_count": 6,
   "metadata": {},
   "outputs": [
    {
     "name": "stdout",
     "output_type": "stream",
     "text": [
      "Dominant eigenvalue is 1.000000 after 56 iterations.\n",
      "\n",
      "CPU times: user 9.49 ms, sys: 229 µs, total: 9.72 ms\n",
      "Wall time: 9.76 ms\n",
      "r[:10] = [  0   9  41 129  17  14   8  16  45  12]\n",
      "\n",
      "rank 0 is page   0: http://www.harvard.edu\n",
      "rank 1 is page   9: http://www.hbs.edu\n",
      "rank 2 is page  41: http://search.harvard.edu:8765/custom/query.html\n",
      "rank 3 is page 129: http://www.med.harvard.edu\n",
      "rank 4 is page  17: http://www.gse.harvard.edu\n",
      "rank 5 is page  14: http://www.hms.harvard.edu\n",
      "rank 6 is page   8: http://www.ksg.harvard.edu\n",
      "rank 7 is page  16: http://www.hsph.harvard.edu\n",
      "rank 8 is page  45: http://www.gocrimson.com\n",
      "rank 9 is page  12: http://www.hsdm.med.harvard.edu\n"
     ]
    }
   ],
   "source": [
    "E = np.load('PageRankEG3.npy')\n",
    "sitename = open('PageRankEG3.nodelabels').read().splitlines()\n",
    "%time r = pagerank(sparse.csr_matrix(E))\n",
    "print('r[:10] =', r[:10])\n",
    "print()\n",
    "for i in range(10):\n",
    "    print('rank %d is page %3d: %s' % (i, r[i], sitename[r[i]]))"
   ]
  },
  {
   "cell_type": "code",
   "execution_count": 8,
   "metadata": {},
   "outputs": [
    {
     "name": "stdout",
     "output_type": "stream",
     "text": [
      "Dominant eigenvalue is 1.000000 after 71 iterations.\n",
      "\n",
      "CPU times: user 4.94 s, sys: 527 ms, total: 5.47 s\n",
      "Wall time: 2.88 s\n",
      "smallest v:  0.00013008094286806027 largest v:  0.11427415903137216\n"
     ]
    }
   ],
   "source": [
    "E = sparse.load_npz('webGoogle.npz')\n",
    "%time r,v = pagerank(E, True)\n",
    "print(\"smallest v: \", min(v), \"largest v: \", max(v))"
   ]
  },
  {
   "cell_type": "code",
   "execution_count": null,
   "metadata": {},
   "outputs": [],
   "source": []
  },
  {
   "cell_type": "code",
   "execution_count": null,
   "metadata": {},
   "outputs": [],
   "source": []
  }
 ],
 "metadata": {
  "kernelspec": {
   "display_name": "Python 3",
   "language": "python",
   "name": "python3"
  },
  "language_info": {
   "codemirror_mode": {
    "name": "ipython",
    "version": 3
   },
   "file_extension": ".py",
   "mimetype": "text/x-python",
   "name": "python",
   "nbconvert_exporter": "python",
   "pygments_lexer": "ipython3",
   "version": "3.7.1"
  }
 },
 "nbformat": 4,
 "nbformat_minor": 2
}
